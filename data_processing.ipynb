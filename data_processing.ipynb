{
 "cells": [
  {
   "cell_type": "code",
   "execution_count": 1,
   "metadata": {},
   "outputs": [],
   "source": [
    "import json"
   ]
  },
  {
   "cell_type": "code",
   "execution_count": 2,
   "metadata": {},
   "outputs": [],
   "source": [
    "file = open(r\"data\\uit-course.json\", encoding='utf-8')\n",
    "data = json.load(file)"
   ]
  },
  {
   "cell_type": "code",
   "execution_count": 3,
   "metadata": {},
   "outputs": [
    {
     "data": {
      "text/plain": [
       "{'id': 'UIT_3103',\n",
       " 'context': 'Môn Quản trị chuỗi cung ứng (mã môn MKTG4223) trình bày kiến thức toàn diện về quản trị Logistics, nền tảng của quản trị chuỗi cung ứng. Trong đó, hệ thống ERP đóng vai trò hỗ trợ các hoạt động lập kế hoạch, tổ chức, thực hiện và kiểm tra chuỗi cung ứng hiệu quả trong các tổ chức doanh nghiệp hiện đại.',\n",
       " 'question': 'Hệ thống nào hỗ trợ các hoạt động lập kế hoạch trong quản trị chuỗi cung ứng?',\n",
       " 'answer': {'text': ['hệ thống ERP'], 'answer_start': [147]}}"
      ]
     },
     "execution_count": 3,
     "metadata": {},
     "output_type": "execute_result"
    }
   ],
   "source": [
    "data[\"test\"][90]"
   ]
  },
  {
   "cell_type": "code",
   "execution_count": 10,
   "metadata": {},
   "outputs": [],
   "source": [
    "idx = 3384\n",
    "for text in data[\"validation\"]:\n",
    "    f = open(rf\"C:\\Users\\leduc\\OneDrive\\Desktop\\NLP\\UIT-chatbot\\RAG_data\\text_{idx}.txt\", \"w\", encoding='utf-8')\n",
    "    f.write(text[\"context\"])\n",
    "    f.close()\n",
    "    idx+=1"
   ]
  },
  {
   "cell_type": "code",
   "execution_count": 11,
   "metadata": {},
   "outputs": [
    {
     "data": {
      "text/plain": [
       "4230"
      ]
     },
     "execution_count": 11,
     "metadata": {},
     "output_type": "execute_result"
    }
   ],
   "source": [
    "idx"
   ]
  },
  {
   "cell_type": "code",
   "execution_count": null,
   "metadata": {},
   "outputs": [],
   "source": []
  }
 ],
 "metadata": {
  "kernelspec": {
   "display_name": "Python 3",
   "language": "python",
   "name": "python3"
  },
  "language_info": {
   "codemirror_mode": {
    "name": "ipython",
    "version": 3
   },
   "file_extension": ".py",
   "mimetype": "text/x-python",
   "name": "python",
   "nbconvert_exporter": "python",
   "pygments_lexer": "ipython3",
   "version": "3.11.4"
  }
 },
 "nbformat": 4,
 "nbformat_minor": 2
}
